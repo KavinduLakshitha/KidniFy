{
 "cells": [
  {
   "cell_type": "code",
   "execution_count": 1,
   "id": "03f99e80-f73d-4812-a0c5-d61cde1067dc",
   "metadata": {},
   "outputs": [],
   "source": [
    "import os\n",
    "import cv2\n",
    "import numpy as np\n",
    "import keras\n",
    "from sklearn.model_selection import train_test_split\n",
    "from keras.applications import VGG16, ResNet50\n",
    "from keras.layers import GlobalAveragePooling2D, Dense, Dropout\n",
    "from keras.models import Model\n",
    "from keras.optimizers import Adam\n",
    "from keras.losses import BinaryCrossentropy\n",
    "from keras.metrics import Accuracy\n",
    "from sklearn.model_selection import train_test_split\n",
    "from keras.models import Model\n",
    "from keras.layers import GlobalAveragePooling2D, Dense, Dropout\n",
    "from keras.optimizers import Adam\n",
    "from keras.preprocessing.image import ImageDataGenerator\n",
    "from keras.optimizers import SGD"
   ]
  },
  {
   "cell_type": "code",
   "execution_count": 2,
   "id": "2b6de50e-04f6-44b8-9dfb-8215feae8b31",
   "metadata": {},
   "outputs": [
    {
     "name": "stdout",
     "output_type": "stream",
     "text": [
      "Training data: 5220 samples\n",
      "Validation data: 1119 samples\n",
      "Testing data: 1119 samples\n"
     ]
    }
   ],
   "source": [
    "# Define the path to your dataset directory\n",
    "dataset_dir = \"Dataset\"\n",
    "\n",
    "# Define the subfolders\n",
    "subfolders = ['Train', 'Test', 'Val']\n",
    "class_labels = ['CKD', 'Normal']\n",
    "\n",
    "# Create an empty list to store image paths and labels\n",
    "all_image_paths = []\n",
    "labels = []\n",
    "\n",
    "# Loop through subfolders and class labels to collect image paths\n",
    "for subfolder in subfolders:\n",
    "    for class_label in class_labels:\n",
    "        class_dir = os.path.join(dataset_dir, subfolder, class_label)\n",
    "        image_paths = [os.path.join(class_dir, f) for f in os.listdir(class_dir)]\n",
    "        all_image_paths.extend(image_paths)\n",
    "        labels.extend([class_label] * len(image_paths))\n",
    "\n",
    "# Shuffle the data and split it into train, validation, and test sets\n",
    "X = []\n",
    "for image_path in all_image_paths:\n",
    "    image = cv2.imread(image_path)\n",
    "    if image is not None:\n",
    "        image = cv2.resize(image, (128, 128))\n",
    "        image = image.astype('float32') / 255.0\n",
    "        X.append(image)\n",
    "\n",
    "y = np.array(labels)\n",
    "X = np.array(X)\n",
    "\n",
    "# Split the data into train, validation, and test sets\n",
    "random_seed = 42\n",
    "train_data, temp_data, train_labels, temp_labels = train_test_split(X, y, test_size=0.3, random_state=random_seed)\n",
    "validation_data, test_data, validation_labels, test_labels = train_test_split(temp_data, temp_labels, test_size=0.5, random_state=random_seed)\n",
    "\n",
    "print(f\"Training data: {len(train_data)} samples\")\n",
    "print(f\"Validation data: {len(validation_data)} samples\")\n",
    "print(f\"Testing data: {len(test_data)} samples\")"
   ]
  },
  {
   "cell_type": "code",
   "execution_count": 4,
   "id": "3840e264-b63a-412e-a030-ae87527cbd79",
   "metadata": {},
   "outputs": [
    {
     "name": "stdout",
     "output_type": "stream",
     "text": [
      "Train labels data type: int64\n",
      "Validation labels data type: int64\n",
      "Unique train labels: [0 1]\n",
      "Unique validation labels: [0 1]\n"
     ]
    }
   ],
   "source": [
    "from sklearn.preprocessing import LabelEncoder\n",
    "\n",
    "# Convert string labels to numerical labels\n",
    "label_encoder = LabelEncoder()\n",
    "train_labels = label_encoder.fit_transform(train_labels)\n",
    "validation_labels = label_encoder.transform(validation_labels)\n",
    "\n",
    "# Check the data types and unique values after conversion\n",
    "print(\"Train labels data type:\", train_labels.dtype)\n",
    "print(\"Validation labels data type:\", validation_labels.dtype)\n",
    "print(\"Unique train labels:\", np.unique(train_labels))\n",
    "print(\"Unique validation labels:\", np.unique(validation_labels))"
   ]
  },
  {
   "cell_type": "code",
   "execution_count": 5,
   "id": "71df8e50-ef8c-4c5a-95ad-c7620aa71d03",
   "metadata": {},
   "outputs": [],
   "source": [
    "# Create a single ImageDataGenerator with data augmentation settings\n",
    "from keras.applications import MobileNet\n",
    "from keras.applications import EfficientNetB0\n",
    "from keras.applications import Xception\n",
    "from keras.applications import ResNet50\n",
    "from keras.layers import GlobalAveragePooling2D, Dense, Dropout\n",
    "from keras.models import Model\n",
    "from keras.layers import Dropout\n",
    "from keras.preprocessing.image import ImageDataGenerator\n",
    "from keras.callbacks import EarlyStopping\n",
    "from keras.layers import BatchNormalization\n",
    "from keras.regularizers import l2"
   ]
  },
  {
   "cell_type": "code",
   "execution_count": 6,
   "id": "25f0a00e-3d85-490c-a5b5-3780cdd7ffc5",
   "metadata": {},
   "outputs": [],
   "source": [
    "datagen = ImageDataGenerator(\n",
    "    rotation_range=20,\n",
    "    width_shift_range=0.2,\n",
    "    height_shift_range=0.2,\n",
    "    shear_range=0.2,\n",
    "    zoom_range=0.2,\n",
    "    horizontal_flip=True,\n",
    "    vertical_flip=True,\n",
    "    rescale=1.0 / 255.0,\n",
    "    validation_split=0.15\n",
    ")"
   ]
  },
  {
   "cell_type": "code",
   "execution_count": 9,
   "id": "12c4c3a5-a054-41a2-9944-da602bab09fa",
   "metadata": {},
   "outputs": [
    {
     "name": "stdout",
     "output_type": "stream",
     "text": [
      "Epoch 1/10\n",
      "70/70 [==============================] - 43s 344ms/step - loss: 3.3196 - accuracy: 0.5612 - val_loss: 2.8297 - val_accuracy: 0.7507\n",
      "Epoch 2/10\n",
      "70/70 [==============================] - 19s 269ms/step - loss: 3.0850 - accuracy: 0.6423 - val_loss: 2.7975 - val_accuracy: 0.7105\n",
      "Epoch 3/10\n",
      "70/70 [==============================] - 19s 263ms/step - loss: 2.9354 - accuracy: 0.7032 - val_loss: 2.8147 - val_accuracy: 0.6953\n",
      "Epoch 4/10\n",
      "70/70 [==============================] - 18s 261ms/step - loss: 2.7858 - accuracy: 0.7661 - val_loss: 2.7990 - val_accuracy: 0.6890\n",
      "Epoch 5/10\n",
      "70/70 [==============================] - 20s 287ms/step - loss: 2.7100 - accuracy: 0.7913 - val_loss: 2.8260 - val_accuracy: 0.6676\n",
      "Epoch 6/10\n",
      "70/70 [==============================] - 24s 338ms/step - loss: 2.6335 - accuracy: 0.8233 - val_loss: 2.8430 - val_accuracy: 0.6452\n",
      "35/35 [==============================] - 1s 19ms/step - loss: 2.8297 - accuracy: 0.7507\n",
      "Evaluation result for MobileNet: [2.829737663269043, 0.7506702542304993]\n"
     ]
    }
   ],
   "source": [
    "# Define a function to train a MobileNet model\n",
    "def train_mobilenet(train_data, train_labels, validation_data, validation_labels):\n",
    "    \n",
    "    # Create the base model with pre-trained weights\n",
    "    base_model = MobileNet(weights='imagenet', include_top=False,input_shape=(128, 128, 3))\n",
    "    \n",
    "    # Add global average pooling, dropout, and dense layers to the base model\n",
    "    x = GlobalAveragePooling2D()(base_model.output)\n",
    "    x = Dropout(0.7)(x)\n",
    "    x = Dense(128, activation='relu',kernel_regularizer=l2(0.01))(x)\n",
    "    x = BatchNormalization()(x)\n",
    "    x = Dropout(0.7)(x)\n",
    "    output = Dense(1, activation='sigmoid')(x)\n",
    "    \n",
    "    # Create the MobileNet model\n",
    "    mobilenet_model = Model(inputs=base_model.input, outputs=output)\n",
    "\n",
    "    # Compile the model with SGD optimizer, binary crossentropy loss, and accuracy metric\n",
    "    mobilenet_model.compile(optimizer=SGD(learning_rate=0.001), loss='binary_crossentropy', metrics=['accuracy'])\n",
    "\n",
    "    # Define early stopping to prevent overfitting\n",
    "    early_stopping = EarlyStopping(monitor='val_accuracy', patience=5, restore_best_weights=True)\n",
    "    \n",
    "    # Train the model using data augmentation and early stopping\n",
    "    mobilenet_history = mobilenet_model.fit(\n",
    "        datagen.flow(train_data, train_labels, batch_size=64,subset='training'),\n",
    "        epochs=10, \n",
    "        validation_data=(validation_data, validation_labels),\n",
    "        callbacks=[early_stopping]\n",
    "    )   \n",
    "\n",
    "    # Evaluate and print the evaluation result for the MobileNet model\n",
    "    mobilenet_eval_result = mobilenet_model.evaluate(validation_data, validation_labels)\n",
    "    print(f\"Evaluation result for MobileNet: {mobilenet_eval_result}\")\n",
    "\n",
    "    # Return the trained model and training history\n",
    "    return mobilenet_model, mobilenet_history\n",
    "\n",
    "# Train the MobileNet model and store the model and history\n",
    "mobilenet_model, mobilenet_history = train_mobilenet(train_data, train_labels, validation_data, validation_labels)"
   ]
  },
  {
   "cell_type": "code",
   "execution_count": 10,
   "id": "a76f624b-a5c8-4575-99fa-5e0dddc9a13a",
   "metadata": {},
   "outputs": [
    {
     "name": "stdout",
     "output_type": "stream",
     "text": [
      "MobileNet model saved successfully\n"
     ]
    }
   ],
   "source": [
    "from keras.models import save_model\n",
    "\n",
    "# Save the trained model and its weights to a file\n",
    "mobilenet_model.save(\"mobilenet_model.keras\")\n",
    "print(\"MobileNet model saved successfully\")"
   ]
  },
  {
   "cell_type": "code",
   "execution_count": 7,
   "id": "7b9fe952-30d9-43a3-9f3b-6ed6c4a70b91",
   "metadata": {},
   "outputs": [
    {
     "name": "stdout",
     "output_type": "stream",
     "text": [
      "Epoch 1/10\n",
      "70/70 [==============================] - 57s 388ms/step - loss: 3.4678 - accuracy: 0.4997 - val_loss: 3.0235 - val_accuracy: 0.4969\n",
      "Epoch 2/10\n",
      "70/70 [==============================] - 19s 270ms/step - loss: 3.4002 - accuracy: 0.5132 - val_loss: 3.0557 - val_accuracy: 0.4933\n",
      "Epoch 3/10\n",
      "70/70 [==============================] - 19s 268ms/step - loss: 3.3871 - accuracy: 0.5166 - val_loss: 3.1185 - val_accuracy: 0.4933\n",
      "Epoch 4/10\n",
      "70/70 [==============================] - 18s 261ms/step - loss: 3.3717 - accuracy: 0.5172 - val_loss: 2.9945 - val_accuracy: 0.5576\n",
      "Epoch 5/10\n",
      "70/70 [==============================] - 20s 290ms/step - loss: 3.3068 - accuracy: 0.5281 - val_loss: 163.7626 - val_accuracy: 0.4933\n",
      "Epoch 6/10\n",
      "70/70 [==============================] - 20s 286ms/step - loss: 3.2252 - accuracy: 0.5713 - val_loss: 3.1341 - val_accuracy: 0.4370\n",
      "Epoch 7/10\n",
      "70/70 [==============================] - 20s 281ms/step - loss: 3.0831 - accuracy: 0.6369 - val_loss: 3.7460 - val_accuracy: 0.5094\n",
      "Epoch 8/10\n",
      "70/70 [==============================] - 20s 289ms/step - loss: 2.9608 - accuracy: 0.6951 - val_loss: 22695.9629 - val_accuracy: 0.4879\n",
      "Epoch 9/10\n",
      "70/70 [==============================] - 22s 316ms/step - loss: 2.8738 - accuracy: 0.7345 - val_loss: 3.0607 - val_accuracy: 0.5121\n",
      "35/35 [==============================] - 1s 38ms/step - loss: 2.9945 - accuracy: 0.5576\n",
      "Evaluation result for EfficientNet: [2.9944801330566406, 0.5576407313346863]\n"
     ]
    }
   ],
   "source": [
    "# Define a function to train a EfficientNet model\n",
    "def train_efficientnet(train_data, train_labels, validation_data, validation_labels):\n",
    "    \n",
    "    # Create the base model with pre-trained weights\n",
    "    base_model = EfficientNetB0(weights='imagenet', include_top=False,input_shape=(128, 128, 3))\n",
    "    \n",
    "    # Add global average pooling, dropout, and dense layers to the base model\n",
    "    x = GlobalAveragePooling2D()(base_model.output)\n",
    "    x = Dropout(0.5)(x)\n",
    "    x = Dense(128, activation='relu',kernel_regularizer=l2(0.01))(x)\n",
    "    x = BatchNormalization()(x)\n",
    "    x = Dropout(0.7)(x)\n",
    "    output = Dense(1, activation='sigmoid')(x)\n",
    "    \n",
    "    # Create the EfficientNet model\n",
    "    efficientnet_model = Model(inputs=base_model.input, outputs=output)\n",
    "    \n",
    "    # Compile the model with SGD optimizer, binary crossentropy loss, and accuracy metric\n",
    "    efficientnet_model.compile(optimizer=SGD(learning_rate=0.001), loss='binary_crossentropy', metrics=['accuracy'])\n",
    "\n",
    "    # Define early stopping to prevent overfitting\n",
    "    early_stopping = EarlyStopping(monitor='val_accuracy', patience=5, restore_best_weights=True)\n",
    "    \n",
    "    # Train the model using data augmentation and early stopping\n",
    "    efficientnet_history = efficientnet_model.fit(\n",
    "        datagen.flow(train_data, train_labels, batch_size=64,subset='training'),\n",
    "        epochs=10, \n",
    "        validation_data=(validation_data, validation_labels),\n",
    "        callbacks=[early_stopping]\n",
    "     )\n",
    "    \n",
    "    # Evaluate and print the evaluation result for the EfficientNet model\n",
    "    efficientnet_eval_result = efficientnet_model.evaluate(validation_data, validation_labels)\n",
    "    print(f\"Evaluation result for EfficientNet: {efficientnet_eval_result}\")\n",
    "    \n",
    "    # Return the trained model and training history\n",
    "    return efficientnet_model, efficientnet_history\n",
    "\n",
    "# Train the EfficientNet model and store the model and history\n",
    "efficientnet_model, efficientnet_history = train_efficientnet(train_data, train_labels, validation_data, validation_labels)"
   ]
  },
  {
   "cell_type": "code",
   "execution_count": 8,
   "id": "1a1c37a1-0970-41ac-b826-72d90ead572f",
   "metadata": {},
   "outputs": [
    {
     "name": "stdout",
     "output_type": "stream",
     "text": [
      "Efficientnet model saved successfully\n"
     ]
    }
   ],
   "source": [
    "from keras.models import save_model\n",
    "\n",
    "# Save the trained model and its weights to a file\n",
    "efficientnet_model.save(\"efficientnet_model.keras\")\n",
    "print(\"Efficientnet model saved successfully\")"
   ]
  },
  {
   "cell_type": "code",
   "execution_count": 6,
   "id": "2fb79073-e6ba-4318-b1f1-0d796565e41b",
   "metadata": {},
   "outputs": [
    {
     "name": "stdout",
     "output_type": "stream",
     "text": [
      "Epoch 1/10\n",
      "70/70 [==============================] - 57s 446ms/step - loss: 3.4151 - accuracy: 0.5172 - val_loss: 3.0867 - val_accuracy: 0.6193\n",
      "Epoch 2/10\n",
      "70/70 [==============================] - 25s 351ms/step - loss: 3.2080 - accuracy: 0.5898 - val_loss: 3.1013 - val_accuracy: 0.6265\n",
      "Epoch 3/10\n",
      "70/70 [==============================] - 25s 352ms/step - loss: 3.1094 - accuracy: 0.6435 - val_loss: 3.2135 - val_accuracy: 0.5567\n",
      "Epoch 4/10\n",
      "70/70 [==============================] - 26s 366ms/step - loss: 3.0507 - accuracy: 0.6660 - val_loss: 3.1650 - val_accuracy: 0.4906\n",
      "Epoch 5/10\n",
      "70/70 [==============================] - 27s 377ms/step - loss: 2.9622 - accuracy: 0.7176 - val_loss: 5.0757 - val_accuracy: 0.6229\n",
      "Epoch 6/10\n",
      "70/70 [==============================] - 27s 383ms/step - loss: 2.8970 - accuracy: 0.7496 - val_loss: 32.0319 - val_accuracy: 0.5451\n",
      "Epoch 7/10\n",
      "70/70 [==============================] - 27s 386ms/step - loss: 2.8286 - accuracy: 0.7800 - val_loss: 145.5590 - val_accuracy: 0.5183\n",
      "35/35 [==============================] - 2s 48ms/step - loss: 3.1013 - accuracy: 0.6265\n",
      "Evaluation result for Xception: [3.101269483566284, 0.6264522075653076]\n"
     ]
    }
   ],
   "source": [
    "#Define a function to train an Xception model\n",
    "def train_xception(train_data, train_labels, validation_data, validation_labels):\n",
    "    \n",
    "    #Create the base model with pre-trained weights\n",
    "    base_model = Xception(weights='imagenet', include_top=False,input_shape=(128, 128, 3))\n",
    "    \n",
    "    #Add global average pooling, dropout, and dense layers to the base model\n",
    "    x = GlobalAveragePooling2D()(base_model.output)\n",
    "    x = Dropout(0.5)(x)\n",
    "    x = Dense(128, activation='relu',kernel_regularizer=l2(0.01))(x)\n",
    "    x = BatchNormalization()(x)\n",
    "    x = Dropout(0.5)(x)\n",
    "    output = Dense(1, activation='sigmoid')(x)\n",
    "    \n",
    "    # Create the Xception model\n",
    "    xception_model = Model(inputs=base_model.input, outputs=output)\n",
    "    \n",
    "    # Compile the model with SGD optimizer, binary crossentropy loss, and accuracy metric\n",
    "    xception_model.compile(optimizer=SGD(learning_rate=0.001), loss='binary_crossentropy', metrics=['accuracy'])\n",
    "\n",
    "    # Define early stopping to prevent overfitting\n",
    "    early_stopping = EarlyStopping(monitor='val_accuracy', patience=5, restore_best_weights=True)\n",
    "    \n",
    "    # Train the model using data augmentation and early stopping\n",
    "    xception_history = xception_model.fit(\n",
    "        datagen.flow(train_data, train_labels, batch_size=64,subset='training'),\n",
    "        epochs=10, \n",
    "        validation_data=(validation_data, validation_labels),\n",
    "        callbacks=[early_stopping]\n",
    "    )\n",
    "    \n",
    "    # Evaluate and print the evaluation result for the Xception model\n",
    "    xception_eval_result = xception_model.evaluate(validation_data, validation_labels)\n",
    "    print(f\"Evaluation result for Xception: {xception_eval_result}\")\n",
    "    \n",
    "    # Return the trained model and training history\n",
    "    return xception_model, xception_history\n",
    "\n",
    "# Train the Xception model and store the model and history\n",
    "xception_model, xception_history = train_xception(train_data, train_labels, validation_data, validation_labels)"
   ]
  },
  {
   "cell_type": "code",
   "execution_count": 7,
   "id": "ee1295bd-fb72-49ef-bb3b-ecacdc5ec015",
   "metadata": {},
   "outputs": [
    {
     "name": "stdout",
     "output_type": "stream",
     "text": [
      "Xception model saved successfully\n"
     ]
    }
   ],
   "source": [
    "from keras.models import save_model\n",
    "\n",
    "# Save the trained model and its weights to a file\n",
    "xception_model.save(\"xception_model.keras\")\n",
    "print(\"Xception model saved successfully\")"
   ]
  },
  {
   "cell_type": "code",
   "execution_count": 6,
   "id": "cabf2d70-3fc9-4430-b219-bc5be55e6448",
   "metadata": {},
   "outputs": [
    {
     "name": "stdout",
     "output_type": "stream",
     "text": [
      "Epoch 1/10\n",
      "70/70 [==============================] - 53s 378ms/step - loss: 3.3812 - accuracy: 0.5918 - val_loss: 3.1964 - val_accuracy: 0.4933\n",
      "Epoch 2/10\n",
      "70/70 [==============================] - 20s 282ms/step - loss: 3.1127 - accuracy: 0.6937 - val_loss: 3.4075 - val_accuracy: 0.4933\n",
      "Epoch 3/10\n",
      "70/70 [==============================] - 20s 283ms/step - loss: 2.9257 - accuracy: 0.7762 - val_loss: 3.4462 - val_accuracy: 0.4933\n",
      "Epoch 4/10\n",
      "70/70 [==============================] - 20s 285ms/step - loss: 2.8061 - accuracy: 0.8283 - val_loss: 3.6825 - val_accuracy: 0.4933\n",
      "Epoch 5/10\n",
      "70/70 [==============================] - 21s 299ms/step - loss: 2.7244 - accuracy: 0.8594 - val_loss: 3.7472 - val_accuracy: 0.4933\n",
      "Epoch 6/10\n",
      "70/70 [==============================] - 22s 312ms/step - loss: 2.6698 - accuracy: 0.8835 - val_loss: 3.8366 - val_accuracy: 0.4933\n",
      "35/35 [==============================] - 1s 40ms/step - loss: 3.1964 - accuracy: 0.4933\n",
      "Evaluation result for Depthwise Separable ResNet: [3.1964027881622314, 0.4932975769042969]\n"
     ]
    }
   ],
   "source": [
    "# Define a function to train a Depthwise Separable ResNet model\n",
    "def train_depthwise_separable_resnet(train_data, train_labels, validation_data, validation_labels):\n",
    "    \n",
    "    # Create the base model with pre-trained weights\n",
    "    base_model = ResNet50(weights='imagenet', include_top=False,input_shape=(128, 128, 3))\n",
    "    \n",
    "    # Add global average pooling, dropout, and dense layers to the base model\n",
    "    x = GlobalAveragePooling2D()(base_model.output)\n",
    "    x = Dropout(0.7)(x)\n",
    "    x = Dense(128, activation='relu',kernel_regularizer=l2(0.01))(x)\n",
    "    x = BatchNormalization()(x)\n",
    "    x = Dropout(0.7)(x)\n",
    "    output = Dense(1, activation='sigmoid')(x)\n",
    "    \n",
    "    # Create the Depthwise Separable ResNet model\n",
    "    depthwise_separable_resnet_model = Model(inputs=base_model.input, outputs=output)\n",
    "    \n",
    "    # Compile the model with SGD optimizer, binary crossentropy loss, and accuracy metric\n",
    "    depthwise_separable_resnet_model.compile(optimizer=SGD(learning_rate=0.001), loss='binary_crossentropy', metrics=['accuracy'])\n",
    "\n",
    "    # Define early stopping to prevent overfitting\n",
    "    early_stopping = EarlyStopping(monitor='val_loss', patience=5, restore_best_weights=True)\n",
    "    \n",
    "    # Train the model using data augmentation and early stopping\n",
    "    depthwise_separable_resnet_history = depthwise_separable_resnet_model.fit(\n",
    "        datagen.flow(train_data, train_labels, batch_size=64,subset='training'),\n",
    "        epochs=10, \n",
    "        validation_data=(validation_data, validation_labels),\n",
    "        callbacks=[early_stopping]\n",
    "    )\n",
    "    \n",
    "    # Evaluate and print the evaluation result for the Depthwise Separable ResNet model\n",
    "    depthwise_separable_resnet_eval_result = depthwise_separable_resnet_model.evaluate(validation_data, validation_labels)\n",
    "    print(f\"Evaluation result for Depthwise Separable ResNet: {depthwise_separable_resnet_eval_result}\")\n",
    "    \n",
    "    # Return the trained model and training history\n",
    "    return depthwise_separable_resnet_model, depthwise_separable_resnet_history\n",
    "\n",
    "# Train the Depthwise Separable ResNet model and store the model and history\n",
    "depthwise_separable_resnet_model, depthwise_separable_resnet_history = train_depthwise_separable_resnet(train_data, train_labels, validation_data, validation_labels)"
   ]
  },
  {
   "cell_type": "code",
   "execution_count": 7,
   "id": "43e310ab-a370-451d-b890-bc2eb518ce95",
   "metadata": {},
   "outputs": [
    {
     "name": "stdout",
     "output_type": "stream",
     "text": [
      "Resnet model saved successfully\n"
     ]
    }
   ],
   "source": [
    "from keras.models import save_model\n",
    "\n",
    "# Save the trained model and its weights to a file\n",
    "depthwise_separable_resnet_model.save(\"depthwise_separable_resnet_model.keras\")\n",
    "print(\"Resnet model saved successfully\")"
   ]
  },
  {
   "cell_type": "code",
   "execution_count": 10,
   "id": "a24b68b7",
   "metadata": {},
   "outputs": [
    {
     "ename": "NameError",
     "evalue": "name 'label_encoder' is not defined",
     "output_type": "error",
     "traceback": [
      "\u001b[0;31m---------------------------------------------------------------------------\u001b[0m",
      "\u001b[0;31mNameError\u001b[0m                                 Traceback (most recent call last)",
      "\u001b[1;32m/home/kavindu/CKD_Detection/CKD_Img_Recognition.ipynb Cell 14\u001b[0m line \u001b[0;36m1\n\u001b[1;32m      <a href='vscode-notebook-cell://wsl%2Bubuntu/home/kavindu/CKD_Detection/CKD_Img_Recognition.ipynb#X16sdnNjb2RlLXJlbW90ZQ%3D%3D?line=6'>7</a>\u001b[0m depthwise_separable_resnet_model \u001b[39m=\u001b[39m load_model(\u001b[39m\"\u001b[39m\u001b[39mdepthwise_separable_resnet_model.keras\u001b[39m\u001b[39m\"\u001b[39m)\n\u001b[1;32m      <a href='vscode-notebook-cell://wsl%2Bubuntu/home/kavindu/CKD_Detection/CKD_Img_Recognition.ipynb#X16sdnNjb2RlLXJlbW90ZQ%3D%3D?line=8'>9</a>\u001b[0m \u001b[39m# Convert test labels to numerical labels using LabelEncoder\u001b[39;00m\n\u001b[0;32m---> <a href='vscode-notebook-cell://wsl%2Bubuntu/home/kavindu/CKD_Detection/CKD_Img_Recognition.ipynb#X16sdnNjb2RlLXJlbW90ZQ%3D%3D?line=9'>10</a>\u001b[0m test_labels \u001b[39m=\u001b[39m label_encoder\u001b[39m.\u001b[39mtransform(test_labels)\n\u001b[1;32m     <a href='vscode-notebook-cell://wsl%2Bubuntu/home/kavindu/CKD_Detection/CKD_Img_Recognition.ipynb#X16sdnNjb2RlLXJlbW90ZQ%3D%3D?line=11'>12</a>\u001b[0m \u001b[39m# Convert test_data and test_labels to NumPy arrays\u001b[39;00m\n\u001b[1;32m     <a href='vscode-notebook-cell://wsl%2Bubuntu/home/kavindu/CKD_Detection/CKD_Img_Recognition.ipynb#X16sdnNjb2RlLXJlbW90ZQ%3D%3D?line=12'>13</a>\u001b[0m test_data \u001b[39m=\u001b[39m np\u001b[39m.\u001b[39marray(test_data)\n",
      "\u001b[0;31mNameError\u001b[0m: name 'label_encoder' is not defined"
     ]
    }
   ],
   "source": [
    "from keras.models import load_model\n",
    "\n",
    "# Load the trained models\n",
    "mobilenet_model = load_model(\"mobilenet_model.keras\")\n",
    "efficientnet_model = load_model(\"efficientnet_model.keras\")\n",
    "xception_model = load_model(\"xception_model.keras\")\n",
    "depthwise_separable_resnet_model = load_model(\"depthwise_separable_resnet_model.keras\")\n",
    "\n",
    "# Convert test labels to numerical labels using LabelEncoder\n",
    "test_labels = label_encoder.transform(test_labels)\n",
    "\n",
    "# Convert test_data and test_labels to NumPy arrays\n",
    "test_data = np.array(test_data)\n",
    "test_labels = np.array(test_labels)\n",
    "\n",
    "# Evaluate each model on the test data\n",
    "mobilenet_accuracy = mobilenet_model.evaluate(test_data, test_labels)[1]\n",
    "efficientnet_accuracy = efficientnet_model.evaluate(test_data, test_labels)[1]\n",
    "xception_accuracy = xception_model.evaluate(test_data, test_labels)[1]\n",
    "depthwise_separable_resnet_accuracy = depthwise_separable_resnet_model.evaluate(test_data, test_labels)[1]\n",
    "\n",
    "# Print the accuracies\n",
    "print(\"MobileNet Accuracy:\", mobilenet_accuracy)\n",
    "print(\"EfficientNet Accuracy:\", efficientnet_accuracy)\n",
    "print(\"Xception Accuracy:\", xception_accuracy)\n",
    "print(\"Depthwise Separable ResNet Accuracy:\", depthwise_separable_resnet_accuracy)"
   ]
  },
  {
   "cell_type": "code",
   "execution_count": 11,
   "id": "e43250e7",
   "metadata": {},
   "outputs": [
    {
     "name": "stdout",
     "output_type": "stream",
     "text": [
      "35/35 [==============================] - 3s 22ms/step\n",
      "35/35 [==============================] - 4s 32ms/step\n",
      "35/35 [==============================] - 2s 43ms/step\n",
      "35/35 [==============================] - 3s 39ms/step\n",
      "MobileNet Classification Report:\n",
      "               precision    recall  f1-score   support\n",
      "\n",
      "         CKD       0.74      0.84      0.79       581\n",
      "      Normal       0.80      0.68      0.74       538\n",
      "\n",
      "    accuracy                           0.77      1119\n",
      "   macro avg       0.77      0.76      0.76      1119\n",
      "weighted avg       0.77      0.77      0.76      1119\n",
      "\n",
      "EfficientNet Classification Report:\n",
      "               precision    recall  f1-score   support\n",
      "\n",
      "         CKD       0.56      0.42      0.48       581\n",
      "      Normal       0.51      0.64      0.56       538\n",
      "\n",
      "    accuracy                           0.53      1119\n",
      "   macro avg       0.53      0.53      0.52      1119\n",
      "weighted avg       0.53      0.53      0.52      1119\n",
      "\n",
      "Xception Classification Report:\n",
      "               precision    recall  f1-score   support\n",
      "\n",
      "         CKD       0.79      0.37      0.51       581\n",
      "      Normal       0.57      0.89      0.69       538\n",
      "\n",
      "    accuracy                           0.62      1119\n",
      "   macro avg       0.68      0.63      0.60      1119\n",
      "weighted avg       0.68      0.62      0.60      1119\n",
      "\n",
      "Depthwise Separable ResNet Classification Report:\n",
      "               precision    recall  f1-score   support\n",
      "\n",
      "         CKD       0.52      1.00      0.68       581\n",
      "      Normal       0.00      0.00      0.00       538\n",
      "\n",
      "    accuracy                           0.52      1119\n",
      "   macro avg       0.26      0.50      0.34      1119\n",
      "weighted avg       0.27      0.52      0.35      1119\n",
      "\n",
      "MobileNet Confusion Matrix:\n",
      " [[490  91]\n",
      " [170 368]]\n",
      "EfficientNet Confusion Matrix:\n",
      " [[246 335]\n",
      " [196 342]]\n",
      "Xception Confusion Matrix:\n",
      " [[217 364]\n",
      " [ 59 479]]\n",
      "Depthwise Separable ResNet Confusion Matrix:\n",
      " [[581   0]\n",
      " [538   0]]\n"
     ]
    },
    {
     "name": "stderr",
     "output_type": "stream",
     "text": [
      "/home/kavindu/miniconda3/envs/tf/lib/python3.9/site-packages/sklearn/metrics/_classification.py:1469: UndefinedMetricWarning: Precision and F-score are ill-defined and being set to 0.0 in labels with no predicted samples. Use `zero_division` parameter to control this behavior.\n",
      "  _warn_prf(average, modifier, msg_start, len(result))\n",
      "/home/kavindu/miniconda3/envs/tf/lib/python3.9/site-packages/sklearn/metrics/_classification.py:1469: UndefinedMetricWarning: Precision and F-score are ill-defined and being set to 0.0 in labels with no predicted samples. Use `zero_division` parameter to control this behavior.\n",
      "  _warn_prf(average, modifier, msg_start, len(result))\n",
      "/home/kavindu/miniconda3/envs/tf/lib/python3.9/site-packages/sklearn/metrics/_classification.py:1469: UndefinedMetricWarning: Precision and F-score are ill-defined and being set to 0.0 in labels with no predicted samples. Use `zero_division` parameter to control this behavior.\n",
      "  _warn_prf(average, modifier, msg_start, len(result))\n"
     ]
    }
   ],
   "source": [
    "from sklearn.metrics import classification_report, confusion_matrix\n",
    "\n",
    "# Evaluate each model on the test data\n",
    "mobilenet_predictions = mobilenet_model.predict(test_data)\n",
    "efficientnet_predictions = efficientnet_model.predict(test_data)\n",
    "xception_predictions = xception_model.predict(test_data)\n",
    "depthwise_separable_resnet_predictions = depthwise_separable_resnet_model.predict(test_data)\n",
    "\n",
    "# Convert predictions to binary labels (0 or 1)\n",
    "mobilenet_predictions = np.round(mobilenet_predictions)\n",
    "efficientnet_predictions = np.round(efficientnet_predictions)\n",
    "xception_predictions = np.round(xception_predictions)\n",
    "depthwise_separable_resnet_predictions = np.round(depthwise_separable_resnet_predictions)\n",
    "\n",
    "# Evaluate and print classification reports\n",
    "mobilenet_report = classification_report(test_labels, mobilenet_predictions, target_names=class_labels)\n",
    "efficientnet_report = classification_report(test_labels, efficientnet_predictions, target_names=class_labels)\n",
    "xception_report = classification_report(test_labels, xception_predictions, target_names=class_labels)\n",
    "depthwise_separable_resnet_report = classification_report(test_labels, depthwise_separable_resnet_predictions, target_names=class_labels)\n",
    "\n",
    "# Evaluate and print confusion matrices\n",
    "mobilenet_cm = confusion_matrix(test_labels, mobilenet_predictions)\n",
    "efficientnet_cm = confusion_matrix(test_labels, efficientnet_predictions)\n",
    "xception_cm = confusion_matrix(test_labels, xception_predictions)\n",
    "depthwise_separable_resnet_cm = confusion_matrix(test_labels, depthwise_separable_resnet_predictions)\n",
    "\n",
    "# Print classification reports\n",
    "print(\"MobileNet Classification Report:\\n\", mobilenet_report)\n",
    "print(\"EfficientNet Classification Report:\\n\", efficientnet_report)\n",
    "print(\"Xception Classification Report:\\n\", xception_report)\n",
    "print(\"Depthwise Separable ResNet Classification Report:\\n\", depthwise_separable_resnet_report)\n",
    "\n",
    "# Print confusion matrices\n",
    "print(\"MobileNet Confusion Matrix:\\n\", mobilenet_cm)\n",
    "print(\"EfficientNet Confusion Matrix:\\n\", efficientnet_cm)\n",
    "print(\"Xception Confusion Matrix:\\n\", xception_cm)\n",
    "print(\"Depthwise Separable ResNet Confusion Matrix:\\n\", depthwise_separable_resnet_cm)"
   ]
  },
  {
   "cell_type": "code",
   "execution_count": 15,
   "id": "7503f41e",
   "metadata": {},
   "outputs": [
    {
     "name": "stderr",
     "output_type": "stream",
     "text": [
      "/home/kavindu/miniconda3/envs/tf/lib/python3.9/site-packages/sklearn/metrics/_classification.py:1469: UndefinedMetricWarning: Precision and F-score are ill-defined and being set to 0.0 in labels with no predicted samples. Use `zero_division` parameter to control this behavior.\n",
      "  _warn_prf(average, modifier, msg_start, len(result))\n",
      "/home/kavindu/miniconda3/envs/tf/lib/python3.9/site-packages/sklearn/metrics/_classification.py:1469: UndefinedMetricWarning: Precision and F-score are ill-defined and being set to 0.0 in labels with no predicted samples. Use `zero_division` parameter to control this behavior.\n",
      "  _warn_prf(average, modifier, msg_start, len(result))\n",
      "/home/kavindu/miniconda3/envs/tf/lib/python3.9/site-packages/sklearn/metrics/_classification.py:1469: UndefinedMetricWarning: Precision and F-score are ill-defined and being set to 0.0 in labels with no predicted samples. Use `zero_division` parameter to control this behavior.\n",
      "  _warn_prf(average, modifier, msg_start, len(result))\n",
      "/home/kavindu/miniconda3/envs/tf/lib/python3.9/site-packages/seaborn/_oldcore.py:1498: FutureWarning: is_categorical_dtype is deprecated and will be removed in a future version. Use isinstance(dtype, CategoricalDtype) instead\n",
      "  if pd.api.types.is_categorical_dtype(vector):\n",
      "/home/kavindu/miniconda3/envs/tf/lib/python3.9/site-packages/seaborn/_oldcore.py:1498: FutureWarning: is_categorical_dtype is deprecated and will be removed in a future version. Use isinstance(dtype, CategoricalDtype) instead\n",
      "  if pd.api.types.is_categorical_dtype(vector):\n",
      "/home/kavindu/miniconda3/envs/tf/lib/python3.9/site-packages/seaborn/_oldcore.py:1498: FutureWarning: is_categorical_dtype is deprecated and will be removed in a future version. Use isinstance(dtype, CategoricalDtype) instead\n",
      "  if pd.api.types.is_categorical_dtype(vector):\n",
      "/home/kavindu/miniconda3/envs/tf/lib/python3.9/site-packages/seaborn/_oldcore.py:1498: FutureWarning: is_categorical_dtype is deprecated and will be removed in a future version. Use isinstance(dtype, CategoricalDtype) instead\n",
      "  if pd.api.types.is_categorical_dtype(vector):\n",
      "/home/kavindu/miniconda3/envs/tf/lib/python3.9/site-packages/seaborn/_oldcore.py:1498: FutureWarning: is_categorical_dtype is deprecated and will be removed in a future version. Use isinstance(dtype, CategoricalDtype) instead\n",
      "  if pd.api.types.is_categorical_dtype(vector):\n",
      "/home/kavindu/miniconda3/envs/tf/lib/python3.9/site-packages/seaborn/_oldcore.py:1498: FutureWarning: is_categorical_dtype is deprecated and will be removed in a future version. Use isinstance(dtype, CategoricalDtype) instead\n",
      "  if pd.api.types.is_categorical_dtype(vector):\n",
      "/home/kavindu/miniconda3/envs/tf/lib/python3.9/site-packages/seaborn/_oldcore.py:1498: FutureWarning: is_categorical_dtype is deprecated and will be removed in a future version. Use isinstance(dtype, CategoricalDtype) instead\n",
      "  if pd.api.types.is_categorical_dtype(vector):\n",
      "/home/kavindu/miniconda3/envs/tf/lib/python3.9/site-packages/seaborn/_oldcore.py:1498: FutureWarning: is_categorical_dtype is deprecated and will be removed in a future version. Use isinstance(dtype, CategoricalDtype) instead\n",
      "  if pd.api.types.is_categorical_dtype(vector):\n",
      "/home/kavindu/miniconda3/envs/tf/lib/python3.9/site-packages/seaborn/_oldcore.py:1498: FutureWarning: is_categorical_dtype is deprecated and will be removed in a future version. Use isinstance(dtype, CategoricalDtype) instead\n",
      "  if pd.api.types.is_categorical_dtype(vector):\n",
      "/home/kavindu/miniconda3/envs/tf/lib/python3.9/site-packages/seaborn/_oldcore.py:1498: FutureWarning: is_categorical_dtype is deprecated and will be removed in a future version. Use isinstance(dtype, CategoricalDtype) instead\n",
      "  if pd.api.types.is_categorical_dtype(vector):\n",
      "/home/kavindu/miniconda3/envs/tf/lib/python3.9/site-packages/seaborn/_oldcore.py:1498: FutureWarning: is_categorical_dtype is deprecated and will be removed in a future version. Use isinstance(dtype, CategoricalDtype) instead\n",
      "  if pd.api.types.is_categorical_dtype(vector):\n",
      "/home/kavindu/miniconda3/envs/tf/lib/python3.9/site-packages/seaborn/_oldcore.py:1498: FutureWarning: is_categorical_dtype is deprecated and will be removed in a future version. Use isinstance(dtype, CategoricalDtype) instead\n",
      "  if pd.api.types.is_categorical_dtype(vector):\n",
      "/home/kavindu/miniconda3/envs/tf/lib/python3.9/site-packages/seaborn/_oldcore.py:1498: FutureWarning: is_categorical_dtype is deprecated and will be removed in a future version. Use isinstance(dtype, CategoricalDtype) instead\n",
      "  if pd.api.types.is_categorical_dtype(vector):\n",
      "/home/kavindu/miniconda3/envs/tf/lib/python3.9/site-packages/seaborn/_oldcore.py:1498: FutureWarning: is_categorical_dtype is deprecated and will be removed in a future version. Use isinstance(dtype, CategoricalDtype) instead\n",
      "  if pd.api.types.is_categorical_dtype(vector):\n",
      "/home/kavindu/miniconda3/envs/tf/lib/python3.9/site-packages/seaborn/_oldcore.py:1498: FutureWarning: is_categorical_dtype is deprecated and will be removed in a future version. Use isinstance(dtype, CategoricalDtype) instead\n",
      "  if pd.api.types.is_categorical_dtype(vector):\n"
     ]
    },
    {
     "data": {
      "image/png": "[encoded data removed]",
      "text/plain": [
       "<Figure size 1008x576 with 5 Axes>"
      ]
     },
     "metadata": {
      "needs_background": "light"
     },
     "output_type": "display_data"
    }
   ],
   "source": [
    "import matplotlib.pyplot as plt\n",
    "import seaborn as sns\n",
    "from sklearn.metrics import classification_report, confusion_matrix, roc_curve, auc\n",
    "\n",
    "# Assuming you have already loaded the test data and labels as described earlier\n",
    "\n",
    "# List of model names\n",
    "model_names = [\"MobileNet\", \"EfficientNet\", \"Xception\", \"ResNet\"]\n",
    "\n",
    "# List of model predictions\n",
    "predictions = [mobilenet_predictions, efficientnet_predictions, xception_predictions, depthwise_separable_resnet_predictions]\n",
    "\n",
    "# Initialize lists to store evaluation metrics\n",
    "accuracies = []\n",
    "precisions = []\n",
    "recalls = []\n",
    "f1_scores = []\n",
    "roc_aucs = []  # New list for ROC-AUC scores\n",
    "\n",
    "# Calculate evaluation metrics and ROC-AUC for each model\n",
    "for prediction in predictions:\n",
    "    accuracy = np.mean(prediction == test_labels)\n",
    "    accuracies.append(accuracy)\n",
    "    \n",
    "    report = classification_report(test_labels, np.round(prediction), target_names=class_labels, output_dict=True)\n",
    "    precisions.append(report[class_labels[0]]['precision'])\n",
    "    recalls.append(report[class_labels[0]]['recall'])\n",
    "    f1_scores.append(report[class_labels[0]]['f1-score'])\n",
    "    \n",
    "    # Calculate ROC curve and ROC-AUC\n",
    "    fpr, tpr, _ = roc_curve(test_labels, prediction)\n",
    "    roc_auc = auc(fpr, tpr)\n",
    "    roc_aucs.append(roc_auc)\n",
    "\n",
    "# Create a DataFrame for visualization\n",
    "import pandas as pd\n",
    "\n",
    "data = {\n",
    "    \"Model\": model_names,\n",
    "    \"Accuracy\": accuracies,\n",
    "    \"Precision\": precisions,\n",
    "    \"Recall\": recalls,\n",
    "    \"F1-Score\": f1_scores,\n",
    "    \"ROC-AUC\": roc_aucs  # Add ROC-AUC to the DataFrame\n",
    "}\n",
    "\n",
    "df = pd.DataFrame(data)\n",
    "\n",
    "# Plot the evaluation metrics and ROC-AUC\n",
    "sns.set(style=\"whitegrid\")\n",
    "plt.figure(figsize=(14, 8))\n",
    "\n",
    "# Accuracy Plot\n",
    "plt.subplot(2, 3, 1)\n",
    "sns.barplot(x=\"Model\", y=\"Accuracy\", data=df)\n",
    "plt.ylim(0, 1)\n",
    "plt.title(\"Accuracy\")\n",
    "\n",
    "# Precision Plot\n",
    "plt.subplot(2, 3, 2)\n",
    "sns.barplot(x=\"Model\", y=\"Precision\", data=df)\n",
    "plt.ylim(0, 1)\n",
    "plt.title(\"Precision\")\n",
    "\n",
    "# Recall Plot\n",
    "plt.subplot(2, 3, 3)\n",
    "sns.barplot(x=\"Model\", y=\"Recall\", data=df)\n",
    "plt.ylim(0, 1)\n",
    "plt.title(\"Recall\")\n",
    "\n",
    "# F1-Score Plot\n",
    "plt.subplot(2, 3, 4)\n",
    "sns.barplot(x=\"Model\", y=\"F1-Score\", data=df)\n",
    "plt.ylim(0, 1)\n",
    "plt.title(\"F1-Score\")\n",
    "\n",
    "# ROC-AUC Plot\n",
    "plt.subplot(2, 3, 5)\n",
    "sns.barplot(x=\"Model\", y=\"ROC-AUC\", data=df)\n",
    "plt.ylim(0, 1)\n",
    "plt.title(\"ROC-AUC\")\n",
    "\n",
    "plt.tight_layout()\n",
    "plt.show()\n"
   ]
  },
  {
   "cell_type": "code",
   "execution_count": 17,
   "id": "767aa438",
   "metadata": {},
   "outputs": [
    {
     "name": "stdout",
     "output_type": "stream",
     "text": [
      "Best Accuracy Model: ResNet\n",
      "Best Precision Model: Xception\n",
      "Best Recall Model: ResNet\n",
      "Best F1-Score Model: MobileNet\n",
      "Best ROC-AUC Model: MobileNet\n"
     ]
    }
   ],
   "source": [
    "# Determine the best-performing model for each metric\n",
    "best_accuracy_model = df[df[\"Accuracy\"] == df[\"Accuracy\"].max()][\"Model\"].values[0]\n",
    "best_precision_model = df[df[\"Precision\"] == df[\"Precision\"].max()][\"Model\"].values[0]\n",
    "best_recall_model = df[df[\"Recall\"] == df[\"Recall\"].max()][\"Model\"].values[0]\n",
    "best_f1_score_model = df[df[\"F1-Score\"] == df[\"F1-Score\"].max()][\"Model\"].values[0]\n",
    "best_roc_auc_model = df[df[\"ROC-AUC\"] == df[\"ROC-AUC\"].max()][\"Model\"].values[0]\n",
    "\n",
    "# Print the best-performing models for each metric\n",
    "print(f\"Best Accuracy Model: {best_accuracy_model}\")\n",
    "print(f\"Best Precision Model: {best_precision_model}\")\n",
    "print(f\"Best Recall Model: {best_recall_model}\")\n",
    "print(f\"Best F1-Score Model: {best_f1_score_model}\")\n",
    "print(f\"Best ROC-AUC Model: {best_roc_auc_model}\")"
   ]
  },
  {
   "cell_type": "code",
   "execution_count": 16,
   "id": "d4c7ec6d",
   "metadata": {},
   "outputs": [
    {
     "data": {
      "image/png": "[encoded data removed]",
      "text/plain": [
       "<Figure size 432x288 with 1 Axes>"
      ]
     },
     "metadata": {
      "needs_background": "light"
     },
     "output_type": "display_data"
    }
   ],
   "source": [
    "from sklearn.metrics import roc_curve\n",
    "\n",
    "# Calculate ROC curve for each model\n",
    "fpr = dict()\n",
    "tpr = dict()\n",
    "roc_auc = dict()\n",
    "for i in range(len(model_names)):\n",
    "    fpr[i], tpr[i], _ = roc_curve(test_labels, predictions[i]) \n",
    "    roc_auc[i] = auc(fpr[i], tpr[i])\n",
    "\n",
    "# Plot ROC curves\n",
    "plt.figure()\n",
    "for i in range(len(model_names)):\n",
    "    plt.plot(fpr[i], tpr[i], label=f'{model_names[i]} (AUC = {roc_auc[i]:.3f})')\n",
    "\n",
    "plt.plot([0, 1], [0, 1], 'k--')\n",
    "plt.xlim([0.0, 1.0])\n",
    "plt.ylim([0.0, 1.05])\n",
    "plt.xlabel('False Positive Rate')\n",
    "plt.ylabel('True Positive Rate')\n",
    "plt.title('ROC Curves')\n",
    "plt.legend(loc=\"lower right\")\n",
    "plt.show()"
   ]
  },
  {
   "cell_type": "code",
   "execution_count": 8,
   "id": "f27b8833",
   "metadata": {},
   "outputs": [
    {
     "name": "stdout",
     "output_type": "stream",
     "text": [
      "1/1 [==============================] - 1s 1s/step\n",
      "Prediction Score: 0.82234484\n",
      "Predicted Class: Normal\n"
     ]
    }
   ],
   "source": [
    "# Load the model\n",
    "from keras.models import load_model\n",
    "model = load_model(\"depthwise_separable_resnet_model.keras\") \n",
    "\n",
    "# Load test image\n",
    "import cv2\n",
    "img_path = \"Dataset/Test/Normal/Normal-(5).jpg\" \n",
    "img = cv2.imread(img_path)\n",
    "img = cv2.resize(img, (128, 128))\n",
    "img = img.reshape(1, 128, 128, 3) \n",
    "\n",
    "# Make prediction\n",
    "pred = model.predict(img)\n",
    "print(\"Prediction Score:\", pred[0][0])\n",
    "\n",
    "# Interpret prediction\n",
    "if pred > 0.85:\n",
    "  print(\"Predicted Class: CKD\") \n",
    "else:\n",
    "  print(\"Predicted Class: Normal\")"
   ]
  }
 ],
 "metadata": {
  "kernelspec": {
   "display_name": "Python 3",
   "language": "python",
   "name": "python3"
  },
  "language_info": {
   "codemirror_mode": {
    "name": "ipython",
    "version": 3
   },
   "file_extension": ".py",
   "mimetype": "text/x-python",
   "name": "python",
   "nbconvert_exporter": "python",
   "pygments_lexer": "ipython3",
   "version": "3.9.18"
  }
 },
 "nbformat": 4,
 "nbformat_minor": 5
}
